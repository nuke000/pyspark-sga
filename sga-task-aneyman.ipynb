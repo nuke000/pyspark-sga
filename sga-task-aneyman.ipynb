{
 "cells": [
  {
   "cell_type": "markdown",
   "metadata": {},
   "source": [
    "# User routes on the site\n",
    "## Description\n",
    "**Clickstream** is a sequence of user actions on a website. It allows you to understand how users interact with the site. In this task, you need to find the most frequent custom routes.\n",
    "\n",
    "## Input data\n",
    "Input data is а table with clickstream data in file `hdfs:/data/clickstream.csv`.\n",
    "\n",
    "### Table structure\n",
    "* `user_id (int)` - Unique user identifier.\n",
    "* `session_id (int)` - Unique identifier for the user session. The user's session lasts until the identifier changes.\n",
    "* `event_type (string)` - Event type from the list:\n",
    "    * **page** - visit to the page\n",
    "    * **event** - any action on the page\n",
    "    * <b>&lt;custom&gt;</b> - string with any other type\n",
    "* `event_type (string)` - Page on the site.\n",
    "* `timestamp (int)` - Unix-timestamp of action.\n",
    "\n",
    "### Browser errors\n",
    "Errors can sometimes occur in the user's browser - after such an error appears, we can no longer trust the data of this session and all the following lines after the error or at the same time with it are considered corrupted and **should not be counted** in statistics.\n",
    "\n",
    "When an error occurs on the page, a random string containing the word **error** will be written to the `event_type` field.\n",
    "\n",
    "### Sample of user session\n",
    "<pre>\n",
    "+-------+----------+------------+----------+----------+\n",
    "|user_id|session_id|  event_type|event_page| timestamp|\n",
    "+-------+----------+------------+----------+----------+\n",
    "|    562|       507|        page|      main|1620494781|\n",
    "|    562|       507|       event|      main|1620494788|\n",
    "|    562|       507|       event|      main|1620494798|\n",
    "|    562|       507|        page|    family|1620494820|\n",
    "|    562|       507|       event|    family|1620494828|\n",
    "|    562|       507|        page|      main|1620494848|\n",
    "|    562|       507|wNaxLlerrorU|      main|1620494865|\n",
    "|    562|       507|       event|      main|1620494873|\n",
    "|    562|       507|        page|      news|1620494875|\n",
    "|    562|       507|        page|   tariffs|1620494876|\n",
    "|    562|       507|       event|   tariffs|1620494884|\n",
    "|    562|       514|        page|      main|1620728918|\n",
    "|    562|       514|       event|      main|1620729174|\n",
    "|    562|       514|        page|   archive|1620729674|\n",
    "|    562|       514|        page|     bonus|1620729797|\n",
    "|    562|       514|        page|   tariffs|1620731090|\n",
    "|    562|       514|       event|   tariffs|1620731187|\n",
    "+-------+----------+------------+----------+----------+\n",
    "</pre>\n",
    "\n",
    "#### Correct user routes for a given user:\n",
    "* **Session 507**: main-family-main\n",
    "* **Session 514**: main-archive-bonus-tariffs\n",
    "\n",
    "Route elements are ordered by the time they appear in the clickstream, from earliest to latest.\n",
    "\n",
    "The route must be accounted for completely before the end of the session or an error in the session.\n",
    "\n",
    "## Task\n",
    "You need to use the Spark SQL, Spark RDD and Spark DF interfaces to create a solution file, the lines of which contain **the 30 most frequent user routes** on the site.\n",
    "\n",
    "Each line of the file should contain the `route` and `count` values **separated by tabs**, where:\n",
    "* `route` - route on the site, consisting of pages separated by \"-\".\n",
    "* `count` - the number of user sessions in which this route was.\n",
    "\n",
    "The lines must be **ordered in descending order** of the `count` field.\n",
    "\n",
    "## Criteria\n",
    "You can get maximum of 3.5 points (final grade) for this assignment, depedning on the number of interface you manage to leverage. The criteria are as follows:\n",
    "\n",
    "* 0.5 points – Spark SQL solution with 1 query\n",
    "* 0.5 points – Spark SQL solution with <=2 queries\n",
    "* 0.5 points – Spark RDD solution\n",
    "* 0.5 points – Spark DF solution\n",
    "* 0.5 points – your solution algorithm is relatively optimized, i.e.: no O^2 or O^3 complexities; appropriate object usage; no data leaks etc. This is evaluated by staff.\n",
    "* 1 point – 1 on 1 screening session. During this session staff member can ask you questions regarding your solution logic, framework usage, questionable parts of your code etc. If your code is clean enough, the staff member can just ask you to solve a theoretical problem connected to Spark.\n"
   ]
  },
  {
   "cell_type": "code",
   "execution_count": 1,
   "metadata": {
    "tags": []
   },
   "outputs": [],
   "source": [
    "#! hdfs dfs -df -h"
   ]
  },
  {
   "cell_type": "code",
   "execution_count": 2,
   "metadata": {
    "tags": []
   },
   "outputs": [],
   "source": [
    "#!cd /"
   ]
  },
  {
   "cell_type": "code",
   "execution_count": 3,
   "metadata": {
    "tags": []
   },
   "outputs": [],
   "source": [
    "#!ls"
   ]
  },
  {
   "cell_type": "code",
   "execution_count": 4,
   "metadata": {
    "tags": []
   },
   "outputs": [],
   "source": [
    "#! hdfs dfs -ls "
   ]
  },
  {
   "cell_type": "code",
   "execution_count": 5,
   "metadata": {
    "tags": []
   },
   "outputs": [],
   "source": [
    "#!hdfs dfs -ls /data"
   ]
  },
  {
   "cell_type": "code",
   "execution_count": 6,
   "metadata": {
    "tags": []
   },
   "outputs": [],
   "source": [
    "#!hdfs dfs -rm -R clickstream.csv"
   ]
  },
  {
   "cell_type": "code",
   "execution_count": 7,
   "metadata": {
    "tags": []
   },
   "outputs": [],
   "source": [
    "#!hadoop fs -mkdir data"
   ]
  },
  {
   "cell_type": "code",
   "execution_count": 8,
   "metadata": {
    "tags": []
   },
   "outputs": [],
   "source": [
    "#!hadoop fs -mkdir data\n",
    "#!hadoop fs -copyFromLocal clickstream.csv /data\n",
    "#! hdfs dfs -ls "
   ]
  },
  {
   "cell_type": "code",
   "execution_count": 1,
   "metadata": {
    "tags": []
   },
   "outputs": [
    {
     "name": "stderr",
     "output_type": "stream",
     "text": [
      "Setting default log level to \"WARN\".\n",
      "To adjust logging level use sc.setLogLevel(newLevel). For SparkR, use setLogLevel(newLevel).\n",
      "2023-10-05 16:41:49,114 WARN yarn.Client: Neither spark.yarn.jars nor spark.yarn.archive is set, falling back to uploading libraries under SPARK_HOME.\n"
     ]
    }
   ],
   "source": [
    "import findspark\n",
    "findspark.init()\n",
    "\n",
    "import pyspark\n",
    "sc = pyspark.SparkContext(appName='jupyter')\n",
    "\n",
    "from pyspark.sql import SparkSession, Row\n",
    "se = SparkSession(sc)\n",
    "\n",
    "import pyspark.sql.functions as f\n",
    "\n",
    "from pyspark.sql.functions import collect_list\n",
    "from pyspark.sql.functions import concat_ws\n",
    "from pyspark.sql.functions import col"
   ]
  },
  {
   "cell_type": "code",
   "execution_count": 2,
   "metadata": {
    "tags": []
   },
   "outputs": [
    {
     "name": "stderr",
     "output_type": "stream",
     "text": [
      "                                                                                \r"
     ]
    }
   ],
   "source": [
    "clicks = se.read.option('header',True).option(\"delimiter\",\"\\t\").csv(\"/data/clickstream.csv\")\n",
    "clicks.registerTempTable(\"clicks\")"
   ]
  },
  {
   "cell_type": "code",
   "execution_count": 11,
   "metadata": {
    "tags": []
   },
   "outputs": [
    {
     "name": "stdout",
     "output_type": "stream",
     "text": [
      "+-------+----------+------------+----------+----------+\n",
      "|user_id|session_id|  event_type|event_page| timestamp|\n",
      "+-------+----------+------------+----------+----------+\n",
      "|    562|       507|        page|      main|1695584127|\n",
      "|    562|       507|       event|      main|1695584134|\n",
      "|    562|       507|       event|      main|1695584144|\n",
      "|    562|       507|       event|      main|1695584147|\n",
      "|    562|       507|wNaxLlerrorU|      main|1695584154|\n",
      "|    562|       507|       event|      main|1695584154|\n",
      "|    562|       507|       event|      main|1695584154|\n",
      "|    562|       507|       event|      main|1695584160|\n",
      "|    562|       507|        page|    rabota|1695584166|\n",
      "|    562|       507|       event|    rabota|1695584174|\n",
      "+-------+----------+------------+----------+----------+\n",
      "only showing top 10 rows\n",
      "\n"
     ]
    }
   ],
   "source": [
    "clicks.show(10)\n"
   ]
  },
  {
   "cell_type": "markdown",
   "metadata": {},
   "source": [
    "**SQL Part"
   ]
  },
  {
   "cell_type": "raw",
   "metadata": {
    "tags": []
   },
   "source": [
    "rough_routes = se.sql( \\\n",
    "'''\n",
    "SELECT\n",
    "    * FROM\n",
    "(SELECT \n",
    "            user_id || '&' || session_id AS unique_id, event_page, event_type, INT(timestamp), instr(event_type, 'error') AS err_flag\n",
    "        FROM clicks\n",
    "        WHERE \n",
    "            event_type != 'event') AS rough_routes\n",
    "        WHERE err_flag > 0 \n",
    "''')\n",
    "rough_routes.show(5)\n",
    "rough_routes.count()"
   ]
  },
  {
   "cell_type": "raw",
   "metadata": {
    "tags": []
   },
   "source": [
    "rough_routes = se.sql( \\\n",
    "'''\n",
    "SELECT\n",
    "    * FROM\n",
    "(SELECT \n",
    "            user_id || '&' || session_id AS unique_id, event_page, event_type, INT(timestamp), instr(event_type, 'error') AS err_flag\n",
    "        FROM clicks\n",
    "        WHERE \n",
    "            event_type != 'event') AS rough_routes\n",
    "        WHERE err_flag <= 0 \n",
    "''')"
   ]
  },
  {
   "cell_type": "raw",
   "metadata": {
    "tags": []
   },
   "source": [
    "rough_routes.show(5)\n",
    "rough_routes.count()"
   ]
  },
  {
   "cell_type": "raw",
   "metadata": {
    "tags": []
   },
   "source": [
    "rough_routes = se.sql( \\\n",
    "'''\n",
    "    SELECT DISTINCT\n",
    "        *, ROW_NUMBER() OVER (PARTITION BY unique_id ORDER BY timestamp ASC) as step\n",
    "    FROM (\n",
    "        SELECT DISTINCT\n",
    "            user_id || '&' || session_id AS unique_id, event_page, INT(timestamp), instr(event_type, 'error') AS err_flag\n",
    "        FROM clicks\n",
    "        WHERE \n",
    "            event_type != 'event'\n",
    "        ) AS rough_routes\n",
    "    ORDER BY\n",
    "        unique_id, timestamp\n",
    "''')"
   ]
  },
  {
   "cell_type": "raw",
   "metadata": {
    "tags": []
   },
   "source": [
    "rough_routes.show(5)\n",
    "rough_routes.count()"
   ]
  },
  {
   "cell_type": "raw",
   "metadata": {
    "tags": []
   },
   "source": [
    "rough_routes1 = se.sql( \\\n",
    "'''\n",
    "    SELECT DISTINCT\n",
    "        *,  ROW_NUMBER() OVER (PARTITION BY unique_id ORDER BY timestamp ASC) as step,\n",
    "        SUM(err_flag) OVER(PARTITION BY unique_id ORDER BY timestamp ASC) AS err_flag_cumulative\n",
    "    FROM ( \n",
    "        SELECT DISTINCT\n",
    "            user_id || '&' || session_id AS unique_id, event_page, INT(timestamp) AS timestamp, instr(event_type, 'error') AS err_flag\n",
    "        FROM clicks\n",
    "        WHERE \n",
    "            event_type != 'event'\n",
    "        ORDER BY \n",
    "            unique_id, timestamp \n",
    "        ) AS rough_routes\n",
    "    ORDER BY  \n",
    "        unique_id, timestamp\n",
    "''')"
   ]
  },
  {
   "cell_type": "raw",
   "metadata": {
    "tags": []
   },
   "source": [
    "rough_routes1.show(50)\n",
    "rough_routes1.count()"
   ]
  },
  {
   "cell_type": "raw",
   "metadata": {
    "tags": []
   },
   "source": [
    "clear_routes = se.sql( \\\n",
    "'''\n",
    "   SELECT DISTINCT\n",
    "       * FROM\n",
    "    (SELECT DISTINCT \n",
    "        *,  ROW_NUMBER() OVER (PARTITION BY unique_id ORDER BY timestamp ASC) as step,\n",
    "        SUM(err_flag) OVER(PARTITION BY unique_id ORDER BY timestamp ASC) AS err_flag_cumulative\n",
    "     FROM (\n",
    "        SELECT DISTINCT\n",
    "            user_id || '&' || session_id AS unique_id, event_page,  INT(timestamp), instr(event_type, 'error') AS err_flag\n",
    "        FROM clicks\n",
    "        WHERE \n",
    "            event_type != 'event'\n",
    "        ) AS flagged_routes\n",
    "    ORDER BY\n",
    "        unique_id, timestamp) AS stepped_routes\n",
    "    WHERE err_flag_cumulative = 0\n",
    "    ORDER BY\n",
    "        unique_id, timestamp\n",
    "        \n",
    "''')"
   ]
  },
  {
   "cell_type": "raw",
   "metadata": {
    "tags": []
   },
   "source": [
    "clear_routes.show(50)\n",
    "clear_routes.count()"
   ]
  },
  {
   "cell_type": "raw",
   "metadata": {
    "tags": []
   },
   "source": [
    "clear_routes2 = se.sql( \\\n",
    "'''\n",
    "   SELECT DISTINCT\n",
    "       unique_id, step, event_cumulative,\n",
    "       MAX(step) OVER(PARTITION BY unique_id ORDER BY step ASC ROWS BETWEEN CURRENT ROW AND 10000 FOLLOWING) AS final_step\n",
    "       FROM\n",
    "    (SELECT DISTINCT \n",
    "        *, ROW_NUMBER() OVER (PARTITION BY unique_id ORDER BY timestamp ASC) as step,\n",
    "        SUM(err_flag) OVER(PARTITION BY unique_id ORDER BY timestamp ASC) AS err_flag_cumulative,\n",
    "        collect_list(event_page) OVER(PARTITION BY unique_id ORDER BY timestamp ASC) AS event_cumulative \n",
    "     FROM (\n",
    "       SELECT DISTINCT\n",
    "            user_id || '&' || session_id AS unique_id, event_page,  INT(timestamp), instr(event_type, 'error') AS err_flag\n",
    "         FROM clicks\n",
    "        WHERE \n",
    "            event_type != 'event'\n",
    "        ) AS flagged_routes\n",
    "    ORDER BY\n",
    "        unique_id, timestamp) AS stepped_routes\n",
    "    WHERE err_flag_cumulative = 0 \n",
    "    ORDER BY\n",
    "        unique_id, step\n",
    "    \n",
    "    ''')"
   ]
  },
  {
   "cell_type": "raw",
   "metadata": {
    "tags": []
   },
   "source": [
    "clear_routes2.take(50)"
   ]
  },
  {
   "cell_type": "raw",
   "metadata": {},
   "source": [
    "clear_routes3 = se.sql( \\\n",
    "'''\n",
    "    SELECT DISTINCT\n",
    "    unique_id, event_cumulative FROM\n",
    "   (SELECT DISTINCT\n",
    "       unique_id, step, event_cumulative,\n",
    "       MAX(step) OVER(PARTITION BY unique_id ORDER BY step ASC ROWS BETWEEN CURRENT ROW AND 10000 FOLLOWING) AS final_step\n",
    "       FROM\n",
    "    (SELECT DISTINCT\n",
    "        *, ROW_NUMBER() OVER (PARTITION BY unique_id ORDER BY timestamp ASC) as step,\n",
    "        SUM(err_flag) OVER(PARTITION BY unique_id ORDER BY timestamp ASC) AS err_flag_cumulative,\n",
    "        collect_list(event_page) OVER(PARTITION BY unique_id ORDER BY timestamp ASC) AS event_cumulative \n",
    "     FROM (\n",
    "       SELECT DISTINCT\n",
    "            user_id || '&' || session_id AS unique_id, event_page, INT(timestamp), instr(event_type, 'error') AS err_flag\n",
    "        FROM clicks\n",
    "        WHERE \n",
    "            event_type != 'event'\n",
    "        ) AS flagged_routes\n",
    "    ORDER BY\n",
    "        unique_id, timestamp) AS stepped_routes\n",
    "    WHERE err_flag_cumulative = 0 \n",
    "    ORDER BY\n",
    "        unique_id, step) AS clear_routes\n",
    "    WHERE step = final_step\n",
    "    ''')"
   ]
  },
  {
   "cell_type": "raw",
   "metadata": {},
   "source": [
    "clear_routes3.take(50)"
   ]
  },
  {
   "cell_type": "code",
   "execution_count": 12,
   "metadata": {
    "tags": []
   },
   "outputs": [],
   "source": [
    "clear_routes4 = se.sql( \\\n",
    "'''\n",
    "    SELECT DISTINCT\n",
    "        event_cumulative as route_def, COUNT(*) as route_amount FROM \n",
    "    (SELECT DISTINCT\n",
    "    unique_id, event_cumulative FROM\n",
    "   (SELECT DISTINCT\n",
    "       unique_id, step, event_cumulative,\n",
    "       MAX(step) OVER(PARTITION BY unique_id ORDER BY step ASC ROWS BETWEEN CURRENT ROW AND 10000 FOLLOWING) AS final_step\n",
    "       FROM\n",
    "    (SELECT DISTINCT\n",
    "        *, ROW_NUMBER() OVER (PARTITION BY unique_id ORDER BY timestamp ASC, err_flag ASC) as step,\n",
    "        SUM(err_flag) OVER(PARTITION BY unique_id ORDER BY timestamp ASC, err_flag ASC) AS err_flag_cumulative,\n",
    "        collect_list(event_page) OVER(PARTITION BY unique_id ORDER BY timestamp ASC) AS event_cumulative \n",
    "     FROM (\n",
    "        SELECT DISTINCT\n",
    "            user_id || '&' || session_id AS unique_id, event_page, INT(timestamp) AS timestamp, instr(event_type, 'error') AS err_flag\n",
    "        FROM clicks\n",
    "        WHERE \n",
    "            event_type != 'event'\n",
    "        ORDER BY \n",
    "            unique_id, timestamp \n",
    "        ) AS flagged_routes\n",
    "    ORDER BY\n",
    "        unique_id, timestamp) AS stepped_routes\n",
    "    WHERE err_flag_cumulative = 0 \n",
    "    ORDER BY\n",
    "        unique_id, step) AS clear_routes\n",
    "    WHERE step = final_step) AS final_routes\n",
    "    GROUP BY event_cumulative\n",
    "    ORDER BY route_amount DESC, route_def DESC\n",
    "    ''')"
   ]
  },
  {
   "cell_type": "code",
   "execution_count": 13,
   "metadata": {
    "tags": []
   },
   "outputs": [
    {
     "name": "stderr",
     "output_type": "stream",
     "text": [
      "[Stage 28:=================================================>      (15 + 2) / 17]\r"
     ]
    },
    {
     "name": "stdout",
     "output_type": "stream",
     "text": [
      "+----------------+------------+\n",
      "|       route_def|route_amount|\n",
      "+----------------+------------+\n",
      "|          [main]|        8089|\n",
      "| [main, archive]|        1094|\n",
      "|  [main, rabota]|        1039|\n",
      "|[main, internet]|         879|\n",
      "|   [main, bonus]|         865|\n",
      "+----------------+------------+\n",
      "only showing top 5 rows\n",
      "\n"
     ]
    },
    {
     "name": "stderr",
     "output_type": "stream",
     "text": [
      "                                                                                \r"
     ]
    }
   ],
   "source": [
    "clear_routes4.show(5)"
   ]
  },
  {
   "cell_type": "code",
   "execution_count": 14,
   "metadata": {
    "tags": []
   },
   "outputs": [],
   "source": [
    "def SQL_result (SQL_query, top = -1) :\n",
    "    result = list()\n",
    "    if top == -1 :\n",
    "        result_SQL = SQL_query.collect()\n",
    "    else :\n",
    "        result_SQL = SQL_query.take(top)\n",
    "    for row in result_SQL:\n",
    "        route = row[0]\n",
    "        route_path = ''\n",
    "        for step in route:\n",
    "            route_path += step\n",
    "            route_path += '-'\n",
    "        route_path = route_path[:-1]\n",
    "        result.append((route_path,row[1]))\n",
    "    return result"
   ]
  },
  {
   "cell_type": "code",
   "execution_count": 15,
   "metadata": {},
   "outputs": [
    {
     "name": "stderr",
     "output_type": "stream",
     "text": [
      "                                                                                \r"
     ]
    }
   ],
   "source": [
    "f = open(\"result_SQL.txt\",\"w\")\n",
    "for route in SQL_result(clear_routes4, 30):\n",
    "    f.write(route[0]+'\\t'+str(route[1])+'\\n')\n",
    "f.close()"
   ]
  },
  {
   "cell_type": "raw",
   "metadata": {},
   "source": [
    "SQL_result(clear_routes4, 30)"
   ]
  },
  {
   "cell_type": "code",
   "execution_count": 16,
   "metadata": {
    "tags": []
   },
   "outputs": [
    {
     "data": {
      "text/plain": [
       "DataFrame[route_def: array<string>, route_amount: bigint]"
      ]
     },
     "execution_count": 16,
     "metadata": {},
     "output_type": "execute_result"
    }
   ],
   "source": [
    "clear_routes4.unpersist()"
   ]
  },
  {
   "cell_type": "markdown",
   "metadata": {},
   "source": [
    "**DF Part"
   ]
  },
  {
   "cell_type": "code",
   "execution_count": 17,
   "metadata": {
    "tags": []
   },
   "outputs": [
    {
     "name": "stderr",
     "output_type": "stream",
     "text": [
      "[Stage 70:>                                                         (0 + 1) / 1]\r"
     ]
    },
    {
     "name": "stdout",
     "output_type": "stream",
     "text": [
      "+-------+----------+------------+----------+----------+\n",
      "|user_id|session_id|  event_type|event_page| timestamp|\n",
      "+-------+----------+------------+----------+----------+\n",
      "|    562|       507|        page|      main|1695584127|\n",
      "|    562|       507|       event|      main|1695584134|\n",
      "|    562|       507|       event|      main|1695584144|\n",
      "|    562|       507|       event|      main|1695584147|\n",
      "|    562|       507|wNaxLlerrorU|      main|1695584154|\n",
      "+-------+----------+------------+----------+----------+\n",
      "only showing top 5 rows\n",
      "\n"
     ]
    },
    {
     "name": "stderr",
     "output_type": "stream",
     "text": [
      "                                                                                \r"
     ]
    }
   ],
   "source": [
    "df = clicks\n",
    "df.cache()\n",
    "df.show(5)"
   ]
  },
  {
   "cell_type": "code",
   "execution_count": 18,
   "metadata": {
    "tags": []
   },
   "outputs": [
    {
     "name": "stdout",
     "output_type": "stream",
     "text": [
      "+-------+----------+------------+----------+----------+---------+----------+----------+\n",
      "|user_id|session_id|  event_type|event_page| timestamp|unique_id|error_flag|error_time|\n",
      "+-------+----------+------------+----------+----------+---------+----------+----------+\n",
      "|    562|       507|        page|      main|1695584127|  562&507|         0|         0|\n",
      "|    562|       507|wNaxLlerrorU|      main|1695584154|  562&507|         1|1695584154|\n",
      "|    562|       507|        page|    rabota|1695584166|  562&507|         0|         0|\n",
      "|    562|       507|        page|      main|1695584194|  562&507|         0|         0|\n",
      "|    562|       507|        page|     bonus|1695584221|  562&507|         0|         0|\n",
      "+-------+----------+------------+----------+----------+---------+----------+----------+\n",
      "only showing top 5 rows\n",
      "\n"
     ]
    }
   ],
   "source": [
    "df = df[(df['event_type'] != 'event')]\n",
    "df = df.withColumn(\"unique_id\",concat_ws('&',df.user_id,df.session_id))\n",
    "df = df.withColumn(\"error_flag\", df.event_type.like(\"%error%\").cast('Integer'))\n",
    "df = df.withColumn(\"error_time\", (df.timestamp*df.error_flag).cast('Integer'))\n",
    "df.show(5)"
   ]
  },
  {
   "cell_type": "code",
   "execution_count": 19,
   "metadata": {
    "tags": []
   },
   "outputs": [
    {
     "name": "stderr",
     "output_type": "stream",
     "text": [
      "[Stage 72:==================================================>       (7 + 1) / 8]\r"
     ]
    },
    {
     "name": "stdout",
     "output_type": "stream",
     "text": [
      "+-------------+----------+\n",
      "|unique_id_err|   min_err|\n",
      "+-------------+----------+\n",
      "|     4848&755|1695672791|\n",
      "|     2671&515|1695704855|\n",
      "|     3641&540|1695770418|\n",
      "|      839&633|1695932747|\n",
      "|     3655&295|1695969136|\n",
      "+-------------+----------+\n",
      "only showing top 5 rows\n",
      "\n"
     ]
    },
    {
     "name": "stderr",
     "output_type": "stream",
     "text": [
      "                                                                                \r"
     ]
    }
   ],
   "source": [
    "error_df = df[df.error_time > 0 ]\n",
    "error_df.cache()\n",
    "error_df = error_df.drop('event_type','event_page','timestamp','error_flag')\n",
    "error_df = error_df.groupby(\"unique_id\").min()\n",
    "error_df = error_df.select(col(\"unique_id\").alias(\"unique_id_err\"), col(\"min(error_time)\").alias(\"min_err\"))\n",
    "error_df.show(5)"
   ]
  },
  {
   "cell_type": "code",
   "execution_count": 20,
   "metadata": {
    "tags": []
   },
   "outputs": [
    {
     "name": "stderr",
     "output_type": "stream",
     "text": [
      "[Stage 77:====================================================> (195 + 2) / 200]\r"
     ]
    },
    {
     "name": "stdout",
     "output_type": "stream",
     "text": [
      "+-------+----------+----------+----------+---------+\n",
      "|user_id|session_id|event_page| timestamp|unique_id|\n",
      "+-------+----------+----------+----------+---------+\n",
      "|      0|       874|      main|1696371064|    0&874|\n",
      "|      0|       874|    rabota|1696374894|    0&874|\n",
      "|      0|       874|    online|1696378229|    0&874|\n",
      "|      0|       879|      main|1696768416|    0&879|\n",
      "|      0|       879|    online|1696768738|    0&879|\n",
      "+-------+----------+----------+----------+---------+\n",
      "only showing top 5 rows\n",
      "\n"
     ]
    },
    {
     "name": "stderr",
     "output_type": "stream",
     "text": [
      "                                                                                \r"
     ]
    }
   ],
   "source": [
    "joined_df = df.join(error_df, df.unique_id == error_df.unique_id_err, 'outer')\n",
    "joined_df.cache()\n",
    "error_df.unpersist()\n",
    "df.unpersist()\n",
    "joined_df = joined_df[((col(\"timestamp\").cast('Integer') <= col(\"min_err\").cast('Integer')) & (col(\"error_flag\")==0))|(col(\"min_err\").isNull())]\n",
    "joined_df = joined_df.drop('event_type','error_time','min_err','error_flag','unique_id_err')\n",
    "joined_df = joined_df.orderBy(['unique_id', 'timestamp'], ascending=True)\n",
    "joined_df.show(5)"
   ]
  },
  {
   "cell_type": "code",
   "execution_count": 21,
   "metadata": {},
   "outputs": [
    {
     "name": "stderr",
     "output_type": "stream",
     "text": [
      "[Stage 85:=====================================================>(198 + 2) / 200]\r"
     ]
    },
    {
     "name": "stdout",
     "output_type": "stream",
     "text": [
      "+------------------------+-----+\n",
      "|collect_list(event_page)|count|\n",
      "+------------------------+-----+\n",
      "|                  [main]| 8090|\n",
      "|         [main, archive]| 1092|\n",
      "|          [main, rabota]| 1037|\n",
      "|        [main, internet]|  874|\n",
      "|           [main, bonus]|  861|\n",
      "+------------------------+-----+\n",
      "only showing top 5 rows\n",
      "\n"
     ]
    },
    {
     "name": "stderr",
     "output_type": "stream",
     "text": [
      "                                                                                \r"
     ]
    }
   ],
   "source": [
    "\n",
    "result_df = joined_df.groupBy(\"unique_id\").agg(collect_list(\"event_page\"))\n",
    "result_df.cache()\n",
    "joined_df.unpersist()\n",
    "result_df = result_df.groupBy(\"collect_list(event_page)\").count()\n",
    "result_df = result_df.orderBy(['count','collect_list(event_page)'], ascending=False)\n",
    "result_df.show(5)"
   ]
  },
  {
   "cell_type": "code",
   "execution_count": 22,
   "metadata": {
    "tags": []
   },
   "outputs": [],
   "source": [
    "def DF_result (df, top = -1) :\n",
    "    result = list()\n",
    "    if top == -1 :\n",
    "        result_df = df.collect()\n",
    "    else :\n",
    "        result_df = df.take(top)\n",
    "    for row in result_df:\n",
    "        route = row[0]\n",
    "        route_path = ''\n",
    "        for step in route:\n",
    "            route_path += step\n",
    "            route_path += '-'\n",
    "        route_path = route_path[:-1]\n",
    "        result.append((route_path,row[1]))\n",
    "    return result"
   ]
  },
  {
   "cell_type": "code",
   "execution_count": 23,
   "metadata": {
    "tags": []
   },
   "outputs": [
    {
     "name": "stderr",
     "output_type": "stream",
     "text": [
      "                                                                                \r"
     ]
    }
   ],
   "source": [
    "f = open(\"result_DF.txt\",\"w\")\n",
    "for route in DF_result(result_df, 30):\n",
    "    f.write(route[0]+'\\t'+str(route[1])+'\\n')\n",
    "f.close()"
   ]
  },
  {
   "cell_type": "raw",
   "metadata": {
    "tags": []
   },
   "source": [
    "DF_result(result_df,30)"
   ]
  },
  {
   "cell_type": "code",
   "execution_count": 24,
   "metadata": {
    "tags": []
   },
   "outputs": [
    {
     "data": {
      "text/plain": [
       "DataFrame[collect_list(event_page): array<string>, count: bigint]"
      ]
     },
     "execution_count": 24,
     "metadata": {},
     "output_type": "execute_result"
    }
   ],
   "source": [
    "result_df.unpersist()"
   ]
  },
  {
   "cell_type": "markdown",
   "metadata": {},
   "source": [
    "RDD Part"
   ]
  },
  {
   "cell_type": "code",
   "execution_count": 3,
   "metadata": {
    "tags": []
   },
   "outputs": [],
   "source": [
    "clicks_rdd = clicks.rdd"
   ]
  },
  {
   "cell_type": "code",
   "execution_count": 4,
   "metadata": {
    "tags": []
   },
   "outputs": [
    {
     "name": "stderr",
     "output_type": "stream",
     "text": [
      "                                                                                \r"
     ]
    },
    {
     "data": {
      "text/plain": [
       "[Row(user_id='562', session_id='507', event_type='page', event_page='main', timestamp='1695584127'),\n",
       " Row(user_id='562', session_id='507', event_type='event', event_page='main', timestamp='1695584134'),\n",
       " Row(user_id='562', session_id='507', event_type='event', event_page='main', timestamp='1695584144'),\n",
       " Row(user_id='562', session_id='507', event_type='event', event_page='main', timestamp='1695584147'),\n",
       " Row(user_id='562', session_id='507', event_type='wNaxLlerrorU', event_page='main', timestamp='1695584154')]"
      ]
     },
     "execution_count": 4,
     "metadata": {},
     "output_type": "execute_result"
    }
   ],
   "source": [
    "clicks_rdd.take(5)"
   ]
  },
  {
   "cell_type": "code",
   "execution_count": 5,
   "metadata": {
    "tags": []
   },
   "outputs": [],
   "source": [
    "def map_flagged(sorted_rdd) :\n",
    "    unique_id = sorted_rdd[0]+'&'+sorted_rdd[1]\n",
    "    err_flag = 0\n",
    "    err_time = 0\n",
    "    if sorted_rdd[2].find('error') >-1 :\n",
    "        err_flag = 1\n",
    "        err_time = int(sorted_rdd[4])\n",
    "    return unique_id, (sorted_rdd[2],sorted_rdd[3],int(sorted_rdd[4]),err_flag, err_time) "
   ]
  },
  {
   "cell_type": "code",
   "execution_count": 6,
   "metadata": {
    "tags": []
   },
   "outputs": [
    {
     "name": "stderr",
     "output_type": "stream",
     "text": [
      "                                                                                \r"
     ]
    },
    {
     "data": {
      "text/plain": [
       "[('562&507', ('page', 'main', 1695584127, 0, 0)),\n",
       " ('562&507', ('wNaxLlerrorU', 'main', 1695584154, 1, 1695584154)),\n",
       " ('562&507', ('page', 'rabota', 1695584166, 0, 0)),\n",
       " ('562&507', ('page', 'main', 1695584194, 0, 0)),\n",
       " ('562&507', ('page', 'bonus', 1695584221, 0, 0))]"
      ]
     },
     "execution_count": 6,
     "metadata": {},
     "output_type": "execute_result"
    }
   ],
   "source": [
    "flagged_rdd = clicks_rdd.filter(lambda x: (x[2]!='event')).map(map_flagged)\n",
    "flagged_rdd.take(5)"
   ]
  },
  {
   "cell_type": "code",
   "execution_count": 7,
   "metadata": {
    "tags": []
   },
   "outputs": [
    {
     "data": {
      "text/plain": [
       "DataFrame[user_id: string, session_id: string, event_type: string, event_page: string, timestamp: string]"
      ]
     },
     "execution_count": 7,
     "metadata": {},
     "output_type": "execute_result"
    }
   ],
   "source": [
    "clicks_rdd.unpersist()\n",
    "clicks.unpersist()"
   ]
  },
  {
   "cell_type": "code",
   "execution_count": 8,
   "metadata": {
    "tags": []
   },
   "outputs": [],
   "source": [
    "def map_first_error(group) :\n",
    "    min_timestamp = 0\n",
    "    for error in group[1] :\n",
    "        if (min_timestamp == 0) or (error[2] < min_timestamp) :\n",
    "            min_timestamp = error[2]\n",
    "    return group[0], min_timestamp    "
   ]
  },
  {
   "cell_type": "code",
   "execution_count": 9,
   "metadata": {
    "tags": []
   },
   "outputs": [
    {
     "name": "stderr",
     "output_type": "stream",
     "text": [
      "                                                                                \r"
     ]
    },
    {
     "data": {
      "text/plain": [
       "[('3493&685', 1696287161),\n",
       " ('901&681', 1696293786),\n",
       " ('1986&181', 1696307385),\n",
       " ('3590&767', 1696311508),\n",
       " ('4247&929', 1696327196)]"
      ]
     },
     "execution_count": 9,
     "metadata": {},
     "output_type": "execute_result"
    }
   ],
   "source": [
    "error_rdd = flagged_rdd.filter(lambda x: x[1][3]==1).map(lambda x: (x[0],x[1][3],x[1][4])).groupBy(lambda x: x[0]).map(map_first_error)\n",
    "error_rdd.take(5)"
   ]
  },
  {
   "cell_type": "code",
   "execution_count": 10,
   "metadata": {
    "tags": []
   },
   "outputs": [
    {
     "name": "stderr",
     "output_type": "stream",
     "text": [
      "                                                                                \r"
     ]
    },
    {
     "data": {
      "text/plain": [
       "[('54&308', ('main', 1695588329)),\n",
       " ('54&308', ('archive', 1695588432)),\n",
       " ('493&511', ('main', 1695589379)),\n",
       " ('493&511', ('news', 1695589390)),\n",
       " ('493&511', ('bonus', 1695589472))]"
      ]
     },
     "execution_count": 10,
     "metadata": {},
     "output_type": "execute_result"
    }
   ],
   "source": [
    "joined_rdd = flagged_rdd.leftOuterJoin(error_rdd).filter(lambda x: ((x[1][1] is None) or ((x[1][0][2] <= x[1][1])and(x[1][0][3]!=1)))).map(lambda x: (x[0],(x[1][0][1],x[1][0][2])))\n",
    "joined_rdd.take(5)"
   ]
  },
  {
   "cell_type": "code",
   "execution_count": 11,
   "metadata": {},
   "outputs": [
    {
     "data": {
      "text/plain": [
       "PythonRDD[31] at RDD at PythonRDD.scala:53"
      ]
     },
     "execution_count": 11,
     "metadata": {},
     "output_type": "execute_result"
    }
   ],
   "source": [
    "flagged_rdd.unpersist()\n",
    "error_rdd.unpersist()"
   ]
  },
  {
   "cell_type": "code",
   "execution_count": 12,
   "metadata": {
    "tags": []
   },
   "outputs": [],
   "source": [
    "def sort_key (route) :\n",
    "    return route[0]"
   ]
  },
  {
   "cell_type": "code",
   "execution_count": 13,
   "metadata": {
    "tags": []
   },
   "outputs": [],
   "source": [
    "def map_calc_route (session) :\n",
    "    route = list()\n",
    "    for step in session[1] :\n",
    "        route.append((step[1], step[0]))\n",
    "    route.sort(key=sort_key)\n",
    "    path = ''\n",
    "    for step in route :\n",
    "        path += (step[1] + '-')\n",
    "    return path[:-1], session[0] "
   ]
  },
  {
   "cell_type": "code",
   "execution_count": 14,
   "metadata": {
    "tags": []
   },
   "outputs": [
    {
     "name": "stderr",
     "output_type": "stream",
     "text": [
      "                                                                                \r"
     ]
    },
    {
     "data": {
      "text/plain": [
       "[('main', 8090),\n",
       " ('main-archive', 1095),\n",
       " ('main-rabota', 1040),\n",
       " ('main-internet', 880),\n",
       " ('main-bonus', 865)]"
      ]
     },
     "execution_count": 14,
     "metadata": {},
     "output_type": "execute_result"
    }
   ],
   "source": [
    "res_rdd = joined_rdd.groupByKey().map(map_calc_route).groupBy(lambda x: x[0]).map(lambda x: (x[0], len(x[1]))).sortBy(lambda x: x[1], ascending = False)\n",
    "res_rdd.take(5)"
   ]
  },
  {
   "cell_type": "code",
   "execution_count": 15,
   "metadata": {},
   "outputs": [
    {
     "data": {
      "text/plain": [
       "PythonRDD[47] at RDD at PythonRDD.scala:53"
      ]
     },
     "execution_count": 15,
     "metadata": {},
     "output_type": "execute_result"
    }
   ],
   "source": [
    "joined_rdd.unpersist()"
   ]
  },
  {
   "cell_type": "code",
   "execution_count": 18,
   "metadata": {
    "tags": []
   },
   "outputs": [],
   "source": [
    "def RDD_result (rdd, top = -1) :\n",
    "    result = list()\n",
    "    if top == -1 :\n",
    "        result_rdd = rdd.collect()\n",
    "    else :\n",
    "        result_rdd = rdd.take(top)\n",
    "    for row in result_rdd:\n",
    "        route = row[0]\n",
    "        result.append((route,row[1]))\n",
    "    return result"
   ]
  },
  {
   "cell_type": "code",
   "execution_count": 19,
   "metadata": {
    "tags": []
   },
   "outputs": [],
   "source": [
    "f = open(\"result_RDD.txt\",\"w\")\n",
    "for route in RDD_result(res_rdd, 30):\n",
    "    f.write(route[0]+'\\t'+str(route[1])+'\\n')\n",
    "f.close()"
   ]
  },
  {
   "cell_type": "raw",
   "metadata": {
    "tags": []
   },
   "source": [
    "RDD_result(res_rdd,30)"
   ]
  },
  {
   "cell_type": "code",
   "execution_count": 22,
   "metadata": {
    "tags": []
   },
   "outputs": [
    {
     "data": {
      "text/plain": [
       "PythonRDD[51] at RDD at PythonRDD.scala:53"
      ]
     },
     "execution_count": 22,
     "metadata": {},
     "output_type": "execute_result"
    }
   ],
   "source": [
    "res_rdd.unpersist()"
   ]
  },
  {
   "cell_type": "code",
   "execution_count": null,
   "metadata": {},
   "outputs": [],
   "source": []
  }
 ],
 "metadata": {
  "coursera": {
   "schema_names": [
    "week-4-spark-homework"
   ]
  },
  "kernelspec": {
   "display_name": "Python 3 (ipykernel)",
   "language": "python",
   "name": "python3"
  },
  "language_info": {
   "codemirror_mode": {
    "name": "ipython",
    "version": 3
   },
   "file_extension": ".py",
   "mimetype": "text/x-python",
   "name": "python",
   "nbconvert_exporter": "python",
   "pygments_lexer": "ipython3",
   "version": "3.10.9"
  },
  "vscode": {
   "interpreter": {
    "hash": "31f2aee4e71d21fbe5cf8b01ff0e069b9275f58929596ceb00d14d90e3e16cd6"
   }
  }
 },
 "nbformat": 4,
 "nbformat_minor": 4
}
